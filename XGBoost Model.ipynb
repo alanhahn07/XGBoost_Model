{
 "cells": [
  {
   "cell_type": "code",
   "execution_count": 34,
   "id": "06f612fa",
   "metadata": {},
   "outputs": [],
   "source": [
    "import os\n",
    "import pandas as pd\n",
    "from sklearn.model_selection import train_test_split\n",
    "from xgboost import XGBRegressor\n",
    "from sklearn.metrics import mean_absolute_error"
   ]
  },
  {
   "cell_type": "code",
   "execution_count": 37,
   "id": "f0e122cc",
   "metadata": {},
   "outputs": [],
   "source": [
    "# Load the data\n",
    "X = pd.read_csv('home_data/train.csv', index_col='Id')\n",
    "X_test_full = pd.read_csv('home_data/test.csv', index_col='Id')\n",
    "\n",
    "# Remove rows with missing SalePrice, identify SalePrice as target\n",
    "X.dropna(axis=0, subset=['SalePrice'], inplace=True)\n",
    "y = X.SalePrice              \n",
    "X.drop(['SalePrice'], axis=1, inplace=True)\n",
    "\n",
    "# Separate validation data from training data\n",
    "X_train_full, X_valid_full, y_train, y_valid = train_test_split(X, y, train_size=0.75, test_size=0.25)\n",
    "\n",
    "\n",
    "# Identify categorical columns with relatively low number of unique values\n",
    "low_cardinality_cols = [colname for colname in X_train_full.columns if X_train_full[colname].nunique() < 10 and X_train_full[colname].dtype == \"object\"]\n",
    "\n",
    "# Identify numeric columns\n",
    "numeric_cols = [colname for colname in X_train_full.columns if X_train_full[colname].dtype in ['int64', 'float64']]\n",
    "\n",
    "# Keep identified columns only\n",
    "idd_cols = low_cardinality_cols + numeric_cols\n",
    "X_train = X_train_full[idd_cols].copy()\n",
    "X_valid = X_valid_full[idd_cols].copy()\n",
    "X_test = X_test_full[idd_cols].copy()\n",
    "\n",
    "# One-hot encode the data \n",
    "X_train = pd.get_dummies(X_train)\n",
    "X_valid = pd.get_dummies(X_valid)\n",
    "X_test = pd.get_dummies(X_test)\n",
    "X_train, X_valid = X_train.align(X_valid, join='left', axis=1)\n",
    "X_train, X_test = X_train.align(X_test, join='left', axis=1)"
   ]
  },
  {
   "cell_type": "code",
   "execution_count": 43,
   "id": "07ce4d42",
   "metadata": {},
   "outputs": [
    {
     "name": "stdout",
     "output_type": "stream",
     "text": [
      "Mean Absolute Error: 17399.152932363013\n"
     ]
    }
   ],
   "source": [
    "# Define, fit, and see calculate predictors from the model\n",
    "reg_model_1 = XGBRegressor()\n",
    "reg_model_1.fit(X_train, y_train)\n",
    "predictions_1 = reg_model_1.predict(X_valid)\n",
    "# Calculate MAE\n",
    "mae_1 = mean_absolute_error(predictions_1, y_valid)\n",
    "print(\"Mean Absolute Error:\" , mae_1)\n"
   ]
  },
  {
   "cell_type": "code",
   "execution_count": 46,
   "id": "243458e2",
   "metadata": {},
   "outputs": [
    {
     "name": "stdout",
     "output_type": "stream",
     "text": [
      "Mean Absolute Error: 15326.88935145548\n"
     ]
    }
   ],
   "source": [
    "# Refining model by specifying parameters\n",
    "reg_model_2 = XGBRegressor(n_estimators=1000, learning_rate=0.05, early_stopping_rounds=5)\n",
    "reg_model_2.fit(X_train, y_train, eval_set=[(X_valid, y_valid)], verbose=False)\n",
    "predictions_2 = reg_model_2.predict(X_valid)\n",
    "mae_2 = mean_absolute_error(predictions_2, y_valid)\n",
    "print(\"Mean Absolute Error:\" , mae_2)"
   ]
  },
  {
   "cell_type": "code",
   "execution_count": null,
   "id": "1327caeb",
   "metadata": {},
   "outputs": [],
   "source": []
  }
 ],
 "metadata": {
  "kernelspec": {
   "display_name": "Python 3 (ipykernel)",
   "language": "python",
   "name": "python3"
  },
  "language_info": {
   "codemirror_mode": {
    "name": "ipython",
    "version": 3
   },
   "file_extension": ".py",
   "mimetype": "text/x-python",
   "name": "python",
   "nbconvert_exporter": "python",
   "pygments_lexer": "ipython3",
   "version": "3.9.12"
  }
 },
 "nbformat": 4,
 "nbformat_minor": 5
}
